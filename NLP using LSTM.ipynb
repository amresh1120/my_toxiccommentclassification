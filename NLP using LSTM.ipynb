{
 "cells": [
  {
   "cell_type": "code",
   "execution_count": 52,
   "id": "90954308",
   "metadata": {},
   "outputs": [
    {
     "name": "stdout",
     "output_type": "stream",
     "text": [
      "Requirement already satisfied: keras in /Users/amreshsenathirajah/anaconda3/lib/python3.11/site-packages (2.15.0)\r\n"
     ]
    }
   ],
   "source": [
    "!pip install keras"
   ]
  },
  {
   "cell_type": "code",
   "execution_count": 53,
   "id": "80a4e26e",
   "metadata": {},
   "outputs": [
    {
     "name": "stdout",
     "output_type": "stream",
     "text": [
      "Requirement already satisfied: tensorflow in /Users/amreshsenathirajah/anaconda3/lib/python3.11/site-packages (2.15.0)\n",
      "Requirement already satisfied: tensorflow-macos==2.15.0 in /Users/amreshsenathirajah/anaconda3/lib/python3.11/site-packages (from tensorflow) (2.15.0)\n",
      "Requirement already satisfied: absl-py>=1.0.0 in /Users/amreshsenathirajah/anaconda3/lib/python3.11/site-packages (from tensorflow-macos==2.15.0->tensorflow) (2.0.0)\n",
      "Requirement already satisfied: astunparse>=1.6.0 in /Users/amreshsenathirajah/anaconda3/lib/python3.11/site-packages (from tensorflow-macos==2.15.0->tensorflow) (1.6.3)\n",
      "Requirement already satisfied: flatbuffers>=23.5.26 in /Users/amreshsenathirajah/anaconda3/lib/python3.11/site-packages (from tensorflow-macos==2.15.0->tensorflow) (23.5.26)\n",
      "Requirement already satisfied: gast!=0.5.0,!=0.5.1,!=0.5.2,>=0.2.1 in /Users/amreshsenathirajah/anaconda3/lib/python3.11/site-packages (from tensorflow-macos==2.15.0->tensorflow) (0.5.4)\n",
      "Requirement already satisfied: google-pasta>=0.1.1 in /Users/amreshsenathirajah/anaconda3/lib/python3.11/site-packages (from tensorflow-macos==2.15.0->tensorflow) (0.2.0)\n",
      "Requirement already satisfied: h5py>=2.9.0 in /Users/amreshsenathirajah/anaconda3/lib/python3.11/site-packages (from tensorflow-macos==2.15.0->tensorflow) (3.9.0)\n",
      "Requirement already satisfied: libclang>=13.0.0 in /Users/amreshsenathirajah/anaconda3/lib/python3.11/site-packages (from tensorflow-macos==2.15.0->tensorflow) (16.0.6)\n",
      "Requirement already satisfied: ml-dtypes~=0.2.0 in /Users/amreshsenathirajah/anaconda3/lib/python3.11/site-packages (from tensorflow-macos==2.15.0->tensorflow) (0.2.0)\n",
      "Requirement already satisfied: numpy<2.0.0,>=1.23.5 in /Users/amreshsenathirajah/anaconda3/lib/python3.11/site-packages (from tensorflow-macos==2.15.0->tensorflow) (1.24.3)\n",
      "Requirement already satisfied: opt-einsum>=2.3.2 in /Users/amreshsenathirajah/anaconda3/lib/python3.11/site-packages (from tensorflow-macos==2.15.0->tensorflow) (3.3.0)\n",
      "Requirement already satisfied: packaging in /Users/amreshsenathirajah/anaconda3/lib/python3.11/site-packages (from tensorflow-macos==2.15.0->tensorflow) (23.1)\n",
      "Requirement already satisfied: protobuf!=4.21.0,!=4.21.1,!=4.21.2,!=4.21.3,!=4.21.4,!=4.21.5,<5.0.0dev,>=3.20.3 in /Users/amreshsenathirajah/anaconda3/lib/python3.11/site-packages (from tensorflow-macos==2.15.0->tensorflow) (4.23.4)\n",
      "Requirement already satisfied: setuptools in /Users/amreshsenathirajah/anaconda3/lib/python3.11/site-packages (from tensorflow-macos==2.15.0->tensorflow) (68.0.0)\n",
      "Requirement already satisfied: six>=1.12.0 in /Users/amreshsenathirajah/anaconda3/lib/python3.11/site-packages (from tensorflow-macos==2.15.0->tensorflow) (1.16.0)\n",
      "Requirement already satisfied: termcolor>=1.1.0 in /Users/amreshsenathirajah/anaconda3/lib/python3.11/site-packages (from tensorflow-macos==2.15.0->tensorflow) (2.3.0)\n",
      "Requirement already satisfied: typing-extensions>=3.6.6 in /Users/amreshsenathirajah/anaconda3/lib/python3.11/site-packages (from tensorflow-macos==2.15.0->tensorflow) (4.7.1)\n",
      "Requirement already satisfied: wrapt<1.15,>=1.11.0 in /Users/amreshsenathirajah/anaconda3/lib/python3.11/site-packages (from tensorflow-macos==2.15.0->tensorflow) (1.14.1)\n",
      "Requirement already satisfied: tensorflow-io-gcs-filesystem>=0.23.1 in /Users/amreshsenathirajah/anaconda3/lib/python3.11/site-packages (from tensorflow-macos==2.15.0->tensorflow) (0.34.0)\n",
      "Requirement already satisfied: grpcio<2.0,>=1.24.3 in /Users/amreshsenathirajah/anaconda3/lib/python3.11/site-packages (from tensorflow-macos==2.15.0->tensorflow) (1.59.3)\n",
      "Requirement already satisfied: tensorboard<2.16,>=2.15 in /Users/amreshsenathirajah/anaconda3/lib/python3.11/site-packages (from tensorflow-macos==2.15.0->tensorflow) (2.15.1)\n",
      "Requirement already satisfied: tensorflow-estimator<2.16,>=2.15.0 in /Users/amreshsenathirajah/anaconda3/lib/python3.11/site-packages (from tensorflow-macos==2.15.0->tensorflow) (2.15.0)\n",
      "Requirement already satisfied: keras<2.16,>=2.15.0 in /Users/amreshsenathirajah/anaconda3/lib/python3.11/site-packages (from tensorflow-macos==2.15.0->tensorflow) (2.15.0)\n",
      "Requirement already satisfied: wheel<1.0,>=0.23.0 in /Users/amreshsenathirajah/anaconda3/lib/python3.11/site-packages (from astunparse>=1.6.0->tensorflow-macos==2.15.0->tensorflow) (0.38.4)\n",
      "Requirement already satisfied: google-auth<3,>=1.6.3 in /Users/amreshsenathirajah/anaconda3/lib/python3.11/site-packages (from tensorboard<2.16,>=2.15->tensorflow-macos==2.15.0->tensorflow) (2.23.4)\n",
      "Requirement already satisfied: google-auth-oauthlib<2,>=0.5 in /Users/amreshsenathirajah/anaconda3/lib/python3.11/site-packages (from tensorboard<2.16,>=2.15->tensorflow-macos==2.15.0->tensorflow) (1.1.0)\n",
      "Requirement already satisfied: markdown>=2.6.8 in /Users/amreshsenathirajah/anaconda3/lib/python3.11/site-packages (from tensorboard<2.16,>=2.15->tensorflow-macos==2.15.0->tensorflow) (3.4.1)\n",
      "Requirement already satisfied: requests<3,>=2.21.0 in /Users/amreshsenathirajah/anaconda3/lib/python3.11/site-packages (from tensorboard<2.16,>=2.15->tensorflow-macos==2.15.0->tensorflow) (2.31.0)\n",
      "Requirement already satisfied: tensorboard-data-server<0.8.0,>=0.7.0 in /Users/amreshsenathirajah/anaconda3/lib/python3.11/site-packages (from tensorboard<2.16,>=2.15->tensorflow-macos==2.15.0->tensorflow) (0.7.2)\n",
      "Requirement already satisfied: werkzeug>=1.0.1 in /Users/amreshsenathirajah/anaconda3/lib/python3.11/site-packages (from tensorboard<2.16,>=2.15->tensorflow-macos==2.15.0->tensorflow) (2.2.3)\n",
      "Requirement already satisfied: cachetools<6.0,>=2.0.0 in /Users/amreshsenathirajah/anaconda3/lib/python3.11/site-packages (from google-auth<3,>=1.6.3->tensorboard<2.16,>=2.15->tensorflow-macos==2.15.0->tensorflow) (5.3.2)\n",
      "Requirement already satisfied: pyasn1-modules>=0.2.1 in /Users/amreshsenathirajah/anaconda3/lib/python3.11/site-packages (from google-auth<3,>=1.6.3->tensorboard<2.16,>=2.15->tensorflow-macos==2.15.0->tensorflow) (0.2.8)\n",
      "Requirement already satisfied: rsa<5,>=3.1.4 in /Users/amreshsenathirajah/anaconda3/lib/python3.11/site-packages (from google-auth<3,>=1.6.3->tensorboard<2.16,>=2.15->tensorflow-macos==2.15.0->tensorflow) (4.9)\n",
      "Requirement already satisfied: requests-oauthlib>=0.7.0 in /Users/amreshsenathirajah/anaconda3/lib/python3.11/site-packages (from google-auth-oauthlib<2,>=0.5->tensorboard<2.16,>=2.15->tensorflow-macos==2.15.0->tensorflow) (1.3.1)\n",
      "Requirement already satisfied: charset-normalizer<4,>=2 in /Users/amreshsenathirajah/anaconda3/lib/python3.11/site-packages (from requests<3,>=2.21.0->tensorboard<2.16,>=2.15->tensorflow-macos==2.15.0->tensorflow) (2.0.4)\n",
      "Requirement already satisfied: idna<4,>=2.5 in /Users/amreshsenathirajah/anaconda3/lib/python3.11/site-packages (from requests<3,>=2.21.0->tensorboard<2.16,>=2.15->tensorflow-macos==2.15.0->tensorflow) (3.4)\n",
      "Requirement already satisfied: urllib3<3,>=1.21.1 in /Users/amreshsenathirajah/anaconda3/lib/python3.11/site-packages (from requests<3,>=2.21.0->tensorboard<2.16,>=2.15->tensorflow-macos==2.15.0->tensorflow) (1.26.16)\n",
      "Requirement already satisfied: certifi>=2017.4.17 in /Users/amreshsenathirajah/anaconda3/lib/python3.11/site-packages (from requests<3,>=2.21.0->tensorboard<2.16,>=2.15->tensorflow-macos==2.15.0->tensorflow) (2023.7.22)\n",
      "Requirement already satisfied: MarkupSafe>=2.1.1 in /Users/amreshsenathirajah/anaconda3/lib/python3.11/site-packages (from werkzeug>=1.0.1->tensorboard<2.16,>=2.15->tensorflow-macos==2.15.0->tensorflow) (2.1.1)\n",
      "Requirement already satisfied: pyasn1<0.5.0,>=0.4.6 in /Users/amreshsenathirajah/anaconda3/lib/python3.11/site-packages (from pyasn1-modules>=0.2.1->google-auth<3,>=1.6.3->tensorboard<2.16,>=2.15->tensorflow-macos==2.15.0->tensorflow) (0.4.8)\n",
      "Requirement already satisfied: oauthlib>=3.0.0 in /Users/amreshsenathirajah/anaconda3/lib/python3.11/site-packages (from requests-oauthlib>=0.7.0->google-auth-oauthlib<2,>=0.5->tensorboard<2.16,>=2.15->tensorflow-macos==2.15.0->tensorflow) (3.2.2)\n"
     ]
    }
   ],
   "source": [
    "!pip install tensorflow"
   ]
  },
  {
   "cell_type": "code",
   "execution_count": 54,
   "id": "e3fdb5ee",
   "metadata": {},
   "outputs": [
    {
     "data": {
      "text/html": [
       "<div>\n",
       "<style scoped>\n",
       "    .dataframe tbody tr th:only-of-type {\n",
       "        vertical-align: middle;\n",
       "    }\n",
       "\n",
       "    .dataframe tbody tr th {\n",
       "        vertical-align: top;\n",
       "    }\n",
       "\n",
       "    .dataframe thead th {\n",
       "        text-align: right;\n",
       "    }\n",
       "</style>\n",
       "<table border=\"1\" class=\"dataframe\">\n",
       "  <thead>\n",
       "    <tr style=\"text-align: right;\">\n",
       "      <th></th>\n",
       "      <th>id</th>\n",
       "      <th>comment_text</th>\n",
       "      <th>toxic</th>\n",
       "      <th>severe_toxic</th>\n",
       "      <th>obscene</th>\n",
       "      <th>threat</th>\n",
       "      <th>insult</th>\n",
       "      <th>identity_hate</th>\n",
       "    </tr>\n",
       "  </thead>\n",
       "  <tbody>\n",
       "    <tr>\n",
       "      <th>0</th>\n",
       "      <td>0000997932d777bf</td>\n",
       "      <td>Explanation\\nWhy the edits made under my usern...</td>\n",
       "      <td>0</td>\n",
       "      <td>0</td>\n",
       "      <td>0</td>\n",
       "      <td>0</td>\n",
       "      <td>0</td>\n",
       "      <td>0</td>\n",
       "    </tr>\n",
       "    <tr>\n",
       "      <th>1</th>\n",
       "      <td>000103f0d9cfb60f</td>\n",
       "      <td>D'aww! He matches this background colour I'm s...</td>\n",
       "      <td>0</td>\n",
       "      <td>0</td>\n",
       "      <td>0</td>\n",
       "      <td>0</td>\n",
       "      <td>0</td>\n",
       "      <td>0</td>\n",
       "    </tr>\n",
       "    <tr>\n",
       "      <th>2</th>\n",
       "      <td>000113f07ec002fd</td>\n",
       "      <td>Hey man, I'm really not trying to edit war. It...</td>\n",
       "      <td>0</td>\n",
       "      <td>0</td>\n",
       "      <td>0</td>\n",
       "      <td>0</td>\n",
       "      <td>0</td>\n",
       "      <td>0</td>\n",
       "    </tr>\n",
       "    <tr>\n",
       "      <th>3</th>\n",
       "      <td>0001b41b1c6bb37e</td>\n",
       "      <td>\"\\nMore\\nI can't make any real suggestions on ...</td>\n",
       "      <td>0</td>\n",
       "      <td>0</td>\n",
       "      <td>0</td>\n",
       "      <td>0</td>\n",
       "      <td>0</td>\n",
       "      <td>0</td>\n",
       "    </tr>\n",
       "    <tr>\n",
       "      <th>4</th>\n",
       "      <td>0001d958c54c6e35</td>\n",
       "      <td>You, sir, are my hero. Any chance you remember...</td>\n",
       "      <td>0</td>\n",
       "      <td>0</td>\n",
       "      <td>0</td>\n",
       "      <td>0</td>\n",
       "      <td>0</td>\n",
       "      <td>0</td>\n",
       "    </tr>\n",
       "  </tbody>\n",
       "</table>\n",
       "</div>"
      ],
      "text/plain": [
       "                 id                                       comment_text  toxic  \\\n",
       "0  0000997932d777bf  Explanation\\nWhy the edits made under my usern...      0   \n",
       "1  000103f0d9cfb60f  D'aww! He matches this background colour I'm s...      0   \n",
       "2  000113f07ec002fd  Hey man, I'm really not trying to edit war. It...      0   \n",
       "3  0001b41b1c6bb37e  \"\\nMore\\nI can't make any real suggestions on ...      0   \n",
       "4  0001d958c54c6e35  You, sir, are my hero. Any chance you remember...      0   \n",
       "\n",
       "   severe_toxic  obscene  threat  insult  identity_hate  \n",
       "0             0        0       0       0              0  \n",
       "1             0        0       0       0              0  \n",
       "2             0        0       0       0              0  \n",
       "3             0        0       0       0              0  \n",
       "4             0        0       0       0              0  "
      ]
     },
     "execution_count": 54,
     "metadata": {},
     "output_type": "execute_result"
    }
   ],
   "source": [
    "# Read the data\n",
    "train = pd.read_csv('train.csv')\n",
    "#train = data[0:2000]\n",
    "train.head()"
   ]
  },
  {
   "cell_type": "code",
   "execution_count": 55,
   "id": "c13964bf",
   "metadata": {},
   "outputs": [
    {
     "name": "stderr",
     "output_type": "stream",
     "text": [
      "[nltk_data] Downloading package stopwords to\n",
      "[nltk_data]     /Users/amreshsenathirajah/nltk_data...\n",
      "[nltk_data]   Package stopwords is already up-to-date!\n"
     ]
    }
   ],
   "source": [
    "import sklearn\n",
    "import numpy as np\n",
    "import re\n",
    "import string\n",
    "import nltk\n",
    "\n",
    "nltk.download('stopwords')\n",
    "from nltk.corpus import stopwords\n",
    "STOPWORDS = set(stopwords.words('english'))\n",
    "def preprocess(corpus):\n",
    "    # Create a set of stopwords\n",
    "    stopwords_english = set(stopwords.words('english'))\n",
    "\n",
    "    cleaned_corpus = []\n",
    "    for text in corpus:\n",
    "        # Lowercase\n",
    "        text = text.lower()\n",
    "        # Remove links\n",
    "        text = re.sub(r'https?://[^\\s\\n\\r]+', '', text)\n",
    "        # Remove punctuation\n",
    "        text = re.sub('[%s]' % re.escape(string.punctuation), '', text)\n",
    "        # Remove words containing numbers\n",
    "        text = re.sub(r'\\w*\\d\\w*', '', text)\n",
    "        # Tokenize and remove stopwords\n",
    "        words = text.split()\n",
    "        words = [word for word in words if word not in stopwords_english]\n",
    "        cleaned_corpus.append(' '.join(words))\n",
    "    return cleaned_corpus"
   ]
  },
  {
   "cell_type": "code",
   "execution_count": 69,
   "id": "366f2798",
   "metadata": {},
   "outputs": [],
   "source": [
    "X = train['comment_text']\n",
    "y = train[['toxic', 'severe_toxic', 'obscene', 'threat', 'insult', 'identity_hate']]"
   ]
  },
  {
   "cell_type": "code",
   "execution_count": 88,
   "id": "cf1ebedc",
   "metadata": {},
   "outputs": [],
   "source": [
    "samples = 10000\n",
    "\n",
    "toxic_indices = y[y['toxic'] == 1].index\n",
    "random_toxic_indices = np.random.choice(toxic_indices, samples, replace=True)\n",
    "non_toxic_indices = y[y['toxic'] == 0].index\n",
    "random_non_toxic_indices = np.random.choice(non_toxic_indices, samples, replace=True)\n",
    "\n",
    "\n",
    "severe_toxic_indices = y[y['severe_toxic'] == 1].index\n",
    "random_severe_toxic_indices = np.random.choice(severe_toxic_indices, samples, replace=True)\n",
    "non_severe_toxic_indices = y[y['toxic'] == 0].index\n",
    "random_non_severe_toxic_indices = np.random.choice(non_toxic_indices, samples, replace=True)\n",
    "\n",
    "\n",
    "obscene_indices = y[y['obscene'] == 1].index\n",
    "random_obscene_indices = np.random.choice(obscene_indices, samples, replace=True)\n",
    "non_obscene_indices = y[y['toxic'] == 0].index\n",
    "random_non_obscene_indices = np.random.choice(non_toxic_indices, samples, replace=True)\n",
    "\n",
    "\n",
    "threat_indices = y[y['threat'] == 1].index\n",
    "random_threat_indices = np.random.choice(threat_indices, samples, replace=True)\n",
    "non_threat_indices = y[y['toxic'] == 0].index\n",
    "random_non_threat_indices = np.random.choice(non_toxic_indices, samples, replace=True)\n",
    "\n",
    "insult_indices = y[y['insult'] == 1].index\n",
    "random_insult_indices = np.random.choice(insult_indices, samples, replace=True)\n",
    "non_insult_indices = y[y['toxic'] == 0].index\n",
    "random_non_insult_indices = np.random.choice(non_toxic_indices, samples, replace=True)\n",
    "\n",
    "identity_hate_indices = y[y['identity_hate'] == 1].index\n",
    "random_identity_hate_indices = np.random.choice(identity_hate_indices, samples, replace=True)\n",
    "non_identity_hate_indices = y[y['toxic'] == 0].index\n",
    "random_non_identity_hate_indices = np.random.choice(non_toxic_indices, samples, replace=True)\n",
    "\n",
    "new_indices = np.concatenate([\n",
    "    random_toxic_indices,\n",
    "    random_severe_toxic_indices,\n",
    "    random_obscene_indices,\n",
    "    random_threat_indices,\n",
    "    random_insult_indices,\n",
    "    random_identity_hate_indices,\n",
    "    random_non_toxic_indices,\n",
    "    random_non_severe_toxic_indices,\n",
    "    random_non_obscene_indices,\n",
    "    random_non_threat_indices,\n",
    "    random_non_insult_indices,\n",
    "    random_non_identity_hate_indices\n",
    "])\n",
    "\n",
    "# Subset the data with resampled indices\n",
    "X_sampled = X[new_indices]\n",
    "y_sampled = y.iloc[new_indices]"
   ]
  },
  {
   "cell_type": "code",
   "execution_count": 83,
   "id": "932c0838",
   "metadata": {},
   "outputs": [
    {
     "name": "stderr",
     "output_type": "stream",
     "text": [
      "WARNING:absl:At this time, the v2.11+ optimizer `tf.keras.optimizers.Adam` runs slowly on M1/M2 Macs, please use the legacy Keras optimizer instead, located at `tf.keras.optimizers.legacy.Adam`.\n"
     ]
    }
   ],
   "source": [
    "from sklearn.model_selection import train_test_split\n",
    "from keras.models import Sequential\n",
    "from keras.layers import Embedding, LSTM, Dense, Dropout\n",
    "from keras.optimizers import Adam\n",
    "from keras.preprocessing.text import Tokenizer\n",
    "from keras.preprocessing.sequence import pad_sequences\n",
    "import tensorflow as tf\n",
    "\n",
    "max_words = 20000\n",
    "tokenizer = Tokenizer(num_words=max_words)\n",
    "tokenizer.fit_on_texts(X_sampled)\n",
    "X_seq = tokenizer.texts_to_sequences(X_sampled)\n",
    "max_length = 200\n",
    "X_padded = pad_sequences(X_seq, maxlen=max_length)\n",
    "\n",
    "# Split the data\n",
    "X_train, X_val, y_train, y_val = train_test_split(X_padded, y_sampled, test_size=0.2, random_state=42)\n",
    "\n",
    "# Build LSTM model\n",
    "embedding_dim = 100\n",
    "#units = 100  # You can adjust the number of LSTM units based on your needs\n",
    "\n",
    "model = Sequential()\n",
    "model.add(Embedding(input_dim=max_words, output_dim=embedding_dim, input_length=max_length))\n",
    "model.add(LSTM(100, activation='tanh'))\n",
    "model.add(Dense(128, activation='relu'))\n",
    "model.add(Dropout(0.5, seed=1))\n",
    "model.add(Dense(6, activation='softmax'))\n",
    "\n",
    "custom_optimizer = Adam(learning_rate=0.001)\n",
    "model.compile(loss='binary_crossentropy', \n",
    "              optimizer=custom_optimizer, \n",
    "              metrics=['accuracy', \n",
    "                       tf.keras.metrics.Precision(), \n",
    "                       tf.keras.metrics.Recall(), \n",
    "                       tf.keras.metrics.AUC(name='auc-roc')])\n",
    "\n"
   ]
  },
  {
   "cell_type": "code",
   "execution_count": 85,
   "id": "6c21461b",
   "metadata": {},
   "outputs": [
    {
     "name": "stdout",
     "output_type": "stream",
     "text": [
      "Epoch 1/5\n",
      "750/750 [==============================] - 157s 210ms/step - loss: 0.0921 - accuracy: 0.9041 - precision_5: 0.4953 - recall_5: 0.2825 - auc-roc: 0.6627 - val_loss: 0.0810 - val_accuracy: 0.9327 - val_precision_5: 0.4929 - val_recall_5: 0.2909 - val_auc-roc: 0.6893\n",
      "Epoch 2/5\n",
      "750/750 [==============================] - 163s 217ms/step - loss: 0.0661 - accuracy: 0.9157 - precision_5: 0.4841 - recall_5: 0.2861 - auc-roc: 0.6752 - val_loss: 0.0685 - val_accuracy: 0.9282 - val_precision_5: 0.4949 - val_recall_5: 0.2901 - val_auc-roc: 0.6931\n",
      "Epoch 3/5\n",
      "750/750 [==============================] - 163s 217ms/step - loss: 0.0529 - accuracy: 0.9008 - precision_5: 0.4859 - recall_5: 0.2870 - auc-roc: 0.6740 - val_loss: 0.0605 - val_accuracy: 0.9398 - val_precision_5: 0.4993 - val_recall_5: 0.2920 - val_auc-roc: 0.6694\n",
      "Epoch 4/5\n",
      "750/750 [==============================] - 162s 216ms/step - loss: 0.0405 - accuracy: 0.8802 - precision_5: 0.4896 - recall_5: 0.2902 - auc-roc: 0.6780 - val_loss: 0.0584 - val_accuracy: 0.9295 - val_precision_5: 0.4998 - val_recall_5: 0.2937 - val_auc-roc: 0.6911\n",
      "Epoch 5/5\n",
      "750/750 [==============================] - 162s 216ms/step - loss: 0.0328 - accuracy: 0.8824 - precision_5: 0.4933 - recall_5: 0.2940 - auc-roc: 0.6686 - val_loss: 0.0548 - val_accuracy: 0.9379 - val_precision_5: 0.5005 - val_recall_5: 0.2943 - val_auc-roc: 0.6673\n"
     ]
    }
   ],
   "source": [
    "# Train the model\n",
    "batch_num = 128\n",
    "epochs = 5\n",
    "opt = model.fit(X_train, y_train, batch_size=batch_num, epochs=epochs, validation_data=(X_val, y_val))\n"
   ]
  },
  {
   "cell_type": "code",
   "execution_count": 61,
   "id": "1e6a3e54",
   "metadata": {},
   "outputs": [
    {
     "name": "stdout",
     "output_type": "stream",
     "text": [
      "998/998 [==============================] - 24s 24ms/step - loss: 0.1420 - accuracy: 0.9941\n",
      "Validation Loss: 0.14196115732192993, Validation Accuracy: 0.9941093325614929\n"
     ]
    }
   ],
   "source": [
    "# # Evaluate the model\n",
    "# loss, accuracy = model.evaluate(X_val, y_val)\n",
    "# print(f'Validation Loss: {loss}, Validation Accuracy: {accuracy}')"
   ]
  },
  {
   "cell_type": "code",
   "execution_count": 62,
   "id": "d8654681",
   "metadata": {},
   "outputs": [],
   "source": [
    "# Make predictions on test data\n",
    "test = pd.read_csv('test.csv')\n",
    "clean_test_comments = preprocess(test['comment_text'])\n",
    "X_test_seq = tokenizer.texts_to_sequences(clean_test_comments)\n",
    "X_test_padded = pad_sequences(X_test_seq, maxlen=max_length)\n"
   ]
  },
  {
   "cell_type": "code",
   "execution_count": 89,
   "id": "dee70fb9",
   "metadata": {},
   "outputs": [
    {
     "name": "stdout",
     "output_type": "stream",
     "text": [
      "4787/4787 [==============================] - 179s 37ms/step\n"
     ]
    }
   ],
   "source": [
    "predictions = model.predict(X_test_padded)\n",
    "# Create a submission file\n",
    "subm = pd.read_csv('sample_submission.csv')\n",
    "subm[['toxic', 'severe_toxic', 'obscene', 'threat', 'insult', 'identity_hate']] = predictions\n",
    "subm.to_csv('rnn_submission.csv', index=False)\n"
   ]
  },
  {
   "cell_type": "code",
   "execution_count": 90,
   "id": "e9918a77",
   "metadata": {},
   "outputs": [
    {
     "data": {
      "image/png": "[encoded data removed]",
      "text/plain": [
       "<Figure size 800x600 with 1 Axes>"
      ]
     },
     "metadata": {},
     "output_type": "display_data"
    }
   ],
   "source": [
    "import matplotlib.pyplot as plt\n",
    "\n",
    "# Plot training and validation loss\n",
    "plt.figure(figsize=(8, 6))\n",
    "plt.suptitle('Optimizer: Adam for LSTM', fontsize=16)\n",
    "plt.ylabel('Loss', fontsize=14)\n",
    "plt.xlabel('Epoch', fontsize=14)\n",
    "plt.plot(opt.history['loss'], color='b', label='Training Loss')\n",
    "plt.plot(opt.history['val_loss'], color='r', label='Validation Loss')\n",
    "plt.legend(loc='upper right')\n",
    "plt.show()"
   ]
  },
  {
   "cell_type": "code",
   "execution_count": null,
   "id": "7947f187",
   "metadata": {},
   "outputs": [],
   "source": []
  }
 ],
 "metadata": {
  "kernelspec": {
   "display_name": "Python 3 (ipykernel)",
   "language": "python",
   "name": "python3"
  },
  "language_info": {
   "codemirror_mode": {
    "name": "ipython",
    "version": 3
   },
   "file_extension": ".py",
   "mimetype": "text/x-python",
   "name": "python",
   "nbconvert_exporter": "python",
   "pygments_lexer": "ipython3",
   "version": "3.11.5"
  }
 },
 "nbformat": 4,
 "nbformat_minor": 5
}
