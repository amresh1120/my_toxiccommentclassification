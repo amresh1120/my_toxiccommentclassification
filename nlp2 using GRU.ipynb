{
 "cells": [
  {
   "cell_type": "code",
   "execution_count": 103,
   "id": "5b64b983",
   "metadata": {},
   "outputs": [
    {
     "data": {
      "text/html": [
       "<div>\n",
       "<style scoped>\n",
       "    .dataframe tbody tr th:only-of-type {\n",
       "        vertical-align: middle;\n",
       "    }\n",
       "\n",
       "    .dataframe tbody tr th {\n",
       "        vertical-align: top;\n",
       "    }\n",
       "\n",
       "    .dataframe thead th {\n",
       "        text-align: right;\n",
       "    }\n",
       "</style>\n",
       "<table border=\"1\" class=\"dataframe\">\n",
       "  <thead>\n",
       "    <tr style=\"text-align: right;\">\n",
       "      <th></th>\n",
       "      <th>id</th>\n",
       "      <th>comment_text</th>\n",
       "      <th>toxic</th>\n",
       "      <th>severe_toxic</th>\n",
       "      <th>obscene</th>\n",
       "      <th>threat</th>\n",
       "      <th>insult</th>\n",
       "      <th>identity_hate</th>\n",
       "    </tr>\n",
       "  </thead>\n",
       "  <tbody>\n",
       "    <tr>\n",
       "      <th>0</th>\n",
       "      <td>0000997932d777bf</td>\n",
       "      <td>Explanation\\nWhy the edits made under my usern...</td>\n",
       "      <td>0</td>\n",
       "      <td>0</td>\n",
       "      <td>0</td>\n",
       "      <td>0</td>\n",
       "      <td>0</td>\n",
       "      <td>0</td>\n",
       "    </tr>\n",
       "    <tr>\n",
       "      <th>1</th>\n",
       "      <td>000103f0d9cfb60f</td>\n",
       "      <td>D'aww! He matches this background colour I'm s...</td>\n",
       "      <td>0</td>\n",
       "      <td>0</td>\n",
       "      <td>0</td>\n",
       "      <td>0</td>\n",
       "      <td>0</td>\n",
       "      <td>0</td>\n",
       "    </tr>\n",
       "    <tr>\n",
       "      <th>2</th>\n",
       "      <td>000113f07ec002fd</td>\n",
       "      <td>Hey man, I'm really not trying to edit war. It...</td>\n",
       "      <td>0</td>\n",
       "      <td>0</td>\n",
       "      <td>0</td>\n",
       "      <td>0</td>\n",
       "      <td>0</td>\n",
       "      <td>0</td>\n",
       "    </tr>\n",
       "    <tr>\n",
       "      <th>3</th>\n",
       "      <td>0001b41b1c6bb37e</td>\n",
       "      <td>\"\\nMore\\nI can't make any real suggestions on ...</td>\n",
       "      <td>0</td>\n",
       "      <td>0</td>\n",
       "      <td>0</td>\n",
       "      <td>0</td>\n",
       "      <td>0</td>\n",
       "      <td>0</td>\n",
       "    </tr>\n",
       "    <tr>\n",
       "      <th>4</th>\n",
       "      <td>0001d958c54c6e35</td>\n",
       "      <td>You, sir, are my hero. Any chance you remember...</td>\n",
       "      <td>0</td>\n",
       "      <td>0</td>\n",
       "      <td>0</td>\n",
       "      <td>0</td>\n",
       "      <td>0</td>\n",
       "      <td>0</td>\n",
       "    </tr>\n",
       "  </tbody>\n",
       "</table>\n",
       "</div>"
      ],
      "text/plain": [
       "                 id                                       comment_text  toxic  \\\n",
       "0  0000997932d777bf  Explanation\\nWhy the edits made under my usern...      0   \n",
       "1  000103f0d9cfb60f  D'aww! He matches this background colour I'm s...      0   \n",
       "2  000113f07ec002fd  Hey man, I'm really not trying to edit war. It...      0   \n",
       "3  0001b41b1c6bb37e  \"\\nMore\\nI can't make any real suggestions on ...      0   \n",
       "4  0001d958c54c6e35  You, sir, are my hero. Any chance you remember...      0   \n",
       "\n",
       "   severe_toxic  obscene  threat  insult  identity_hate  \n",
       "0             0        0       0       0              0  \n",
       "1             0        0       0       0              0  \n",
       "2             0        0       0       0              0  \n",
       "3             0        0       0       0              0  \n",
       "4             0        0       0       0              0  "
      ]
     },
     "execution_count": 103,
     "metadata": {},
     "output_type": "execute_result"
    }
   ],
   "source": [
    "import pandas as pd\n",
    "train = pd.read_csv('train.csv')\n",
    "train.head()"
   ]
  },
  {
   "cell_type": "code",
   "execution_count": 104,
   "id": "995cfb98",
   "metadata": {},
   "outputs": [
    {
     "name": "stderr",
     "output_type": "stream",
     "text": [
      "[nltk_data] Downloading package stopwords to\n",
      "[nltk_data]     /Users/amreshsenathirajah/nltk_data...\n",
      "[nltk_data]   Package stopwords is already up-to-date!\n"
     ]
    }
   ],
   "source": [
    "import sklearn\n",
    "import numpy as np\n",
    "import re\n",
    "import string\n",
    "import nltk\n",
    "\n",
    "nltk.download('stopwords')\n",
    "from nltk.corpus import stopwords\n",
    "STOPWORDS = set(stopwords.words('english'))\n",
    "def preprocess(corpus):\n",
    "    # Create a set of stopwords\n",
    "    stopwords_english = set(stopwords.words('english'))\n",
    "\n",
    "    cleaned_corpus = []\n",
    "    for text in corpus:\n",
    "        # Lowercase\n",
    "        text = text.lower()\n",
    "        # Remove links\n",
    "        text = re.sub(r'https?://[^\\s\\n\\r]+', '', text)\n",
    "        # Remove punctuation\n",
    "        text = re.sub('[%s]' % re.escape(string.punctuation), '', text)\n",
    "        # Remove words containing numbers\n",
    "        text = re.sub(r'\\w*\\d\\w*', '', text)\n",
    "        # Tokenize and remove stopwords\n",
    "        words = text.split()\n",
    "        words = [word for word in words if word not in stopwords_english]\n",
    "        cleaned_corpus.append(' '.join(words))\n",
    "    return cleaned_corpus"
   ]
  },
  {
   "cell_type": "code",
   "execution_count": 98,
   "id": "e1ff0048",
   "metadata": {},
   "outputs": [],
   "source": [
    "# from keras.layers import Embedding, GRU, Dense, Dropout, Conv1D\n",
    "# from keras.optimizers import Adam\n",
    "# from sklearn.model_selection import train_test_split\n",
    "# from keras.preprocessing.text import Tokenizer\n",
    "# from keras.preprocessing.sequence import pad_sequences\n",
    "# from keras.models import Sequential\n",
    "# from keras.layers import Embedding, SimpleRNN, Dense, Dropout\n",
    "# # Preprocess the text\n",
    "# X = preprocess(train['comment_text'])\n",
    "# y = train[['toxic', 'severe_toxic', 'obscene', 'threat', 'insult', 'identity_hate']]\n",
    "\n",
    "# # Tokenize text, convert text data into numbers\n",
    "# max_words = 20000\n",
    "# tokenizer = Tokenizer(num_words=max_words)\n",
    "# tokenizer.fit_on_texts(X)\n",
    "# X_seq = tokenizer.texts_to_sequences(X)\n",
    "\n",
    "# # Pad sequences\n",
    "# max_length = 200\n",
    "# X_padded = pad_sequences(X_seq, maxlen=max_length)\n",
    "\n",
    "# # Split the data\n",
    "# X_train, X_val, y_train, y_val = train_test_split(X_padded, y, test_size=0.2, random_state=42)\n",
    "\n",
    "\n",
    "\n",
    "# # Build GRU model\n",
    "# embedding_dim = 100\n",
    "# filters = 64 # number of features model will learn\n",
    "# kernel_size = 3 # 3by3 matrix\n",
    "# model = Sequential()\n",
    "# model.add(Embedding(input_dim=max_words, output_dim=embedding_dim, input_length=max_length))\n",
    "# model.add(Conv1D(filters=filters, kernel_size=kernel_size, activation='relu'))\n",
    "# model.add(GRU(100))  \n",
    "# model.add(Dense(128, activation='relu'))\n",
    "# model.add(Dropout(0.5 , seed = 1))\n",
    "# model.add(Dense(6, activation='softmax'))\n",
    "\n",
    "# custom_optimizer = Adam(learning_rate=0.001)\n",
    "# model.compile(loss='binary_crossentropy', \n",
    "#               optimizer=custom_optimizer, \n",
    "#               metrics=['accuracy', \n",
    "#                        tf.keras.metrics.Precision(), \n",
    "#                        tf.keras.metrics.Recall(), \n",
    "#                        tf.keras.metrics.AUC(name='auc-roc')])\n",
    "\n",
    "\n"
   ]
  },
  {
   "cell_type": "code",
   "execution_count": 107,
   "id": "48b9a2b9",
   "metadata": {},
   "outputs": [],
   "source": [
    "X = train['comment_text']\n",
    "y = train[['toxic', 'severe_toxic', 'obscene', 'threat', 'insult', 'identity_hate']]"
   ]
  },
  {
   "cell_type": "code",
   "execution_count": 108,
   "id": "4c4f5ec1",
   "metadata": {},
   "outputs": [],
   "source": [
    "samples = 10000\n",
    "\n",
    "toxic_indices = y[y['toxic'] == 1].index\n",
    "random_toxic_indices = np.random.choice(toxic_indices, samples, replace=True)\n",
    "non_toxic_indices = y[y['toxic'] == 0].index\n",
    "random_non_toxic_indices = np.random.choice(non_toxic_indices, samples, replace=True)\n",
    "\n",
    "\n",
    "severe_toxic_indices = y[y['severe_toxic'] == 1].index\n",
    "random_severe_toxic_indices = np.random.choice(severe_toxic_indices, samples, replace=True)\n",
    "non_severe_toxic_indices = y[y['toxic'] == 0].index\n",
    "random_non_severe_toxic_indices = np.random.choice(non_toxic_indices, samples, replace=True)\n",
    "\n",
    "\n",
    "obscene_indices = y[y['obscene'] == 1].index\n",
    "random_obscene_indices = np.random.choice(obscene_indices, samples, replace=True)\n",
    "non_obscene_indices = y[y['toxic'] == 0].index\n",
    "random_non_obscene_indices = np.random.choice(non_toxic_indices, samples, replace=True)\n",
    "\n",
    "\n",
    "threat_indices = y[y['threat'] == 1].index\n",
    "random_threat_indices = np.random.choice(threat_indices, samples, replace=True)\n",
    "non_threat_indices = y[y['toxic'] == 0].index\n",
    "random_non_threat_indices = np.random.choice(non_toxic_indices, samples, replace=True)\n",
    "\n",
    "insult_indices = y[y['insult'] == 1].index\n",
    "random_insult_indices = np.random.choice(insult_indices, samples, replace=True)\n",
    "non_insult_indices = y[y['toxic'] == 0].index\n",
    "random_non_insult_indices = np.random.choice(non_toxic_indices, samples, replace=True)\n",
    "\n",
    "identity_hate_indices = y[y['identity_hate'] == 1].index\n",
    "random_identity_hate_indices = np.random.choice(identity_hate_indices, samples, replace=True)\n",
    "non_identity_hate_indices = y[y['toxic'] == 0].index\n",
    "random_non_identity_hate_indices = np.random.choice(non_toxic_indices, samples, replace=True)\n",
    "\n",
    "new_indices = np.concatenate([\n",
    "    random_toxic_indices,\n",
    "    random_severe_toxic_indices,\n",
    "    random_obscene_indices,\n",
    "    random_threat_indices,\n",
    "    random_insult_indices,\n",
    "    random_identity_hate_indices,\n",
    "    random_non_toxic_indices,\n",
    "    random_non_severe_toxic_indices,\n",
    "    random_non_obscene_indices,\n",
    "    random_non_threat_indices,\n",
    "    random_non_insult_indices,\n",
    "    random_non_identity_hate_indices\n",
    "])\n",
    "\n",
    "# Subset the data with resampled indices\n",
    "X_sampled = X[new_indices]\n",
    "y_sampled = y.iloc[new_indices]\n",
    "\n"
   ]
  },
  {
   "cell_type": "code",
   "execution_count": 113,
   "id": "1ed3993e",
   "metadata": {},
   "outputs": [
    {
     "name": "stderr",
     "output_type": "stream",
     "text": [
      "WARNING:absl:At this time, the v2.11+ optimizer `tf.keras.optimizers.Adam` runs slowly on M1/M2 Macs, please use the legacy Keras optimizer instead, located at `tf.keras.optimizers.legacy.Adam`.\n"
     ]
    }
   ],
   "source": [
    "from keras.layers import Embedding, GRU, Dense, Dropout\n",
    "from keras.optimizers import Adam\n",
    "from sklearn.model_selection import train_test_split\n",
    "from keras.preprocessing.text import Tokenizer\n",
    "from keras.preprocessing.sequence import pad_sequences\n",
    "from keras.models import Sequential\n",
    "import tensorflow as tf\n",
    "\n",
    "# Tokenize text, convert text data into numbers\n",
    "max_words = 20000\n",
    "tokenizer = Tokenizer(num_words=max_words)\n",
    "tokenizer.fit_on_texts(X_sampled)\n",
    "X_seq = tokenizer.texts_to_sequences(X_sampled)\n",
    "max_length = 200\n",
    "X_padded = pad_sequences(X_seq, maxlen=max_length)\n",
    "\n",
    "# Split the data\n",
    "X_train, X_val, y_train, y_val = train_test_split(X_padded, y_sampled, test_size=0.2, random_state=42)\n",
    "\n",
    "\n",
    "# Build GRU model without Conv1D\n",
    "embedding_dim = 100\n",
    "units = 100  # You can adjust the number of GRU units based on your needs\n",
    "\n",
    "model = Sequential()\n",
    "model.add(Embedding(input_dim=max_words, output_dim=embedding_dim, input_length=max_length))\n",
    "model.add(GRU(units, activation='tanh'))\n",
    "model.add(Dense(128, activation='relu'))\n",
    "model.add(Dropout(0.5, seed=1))\n",
    "model.add(Dense(6, activation='softmax'))\n",
    "\n",
    "custom_optimizer = Adam(learning_rate=0.001)\n",
    "model.compile(loss='binary_crossentropy', \n",
    "              optimizer=custom_optimizer, \n",
    "              metrics=['accuracy', \n",
    "                       tf.keras.metrics.Precision(), \n",
    "                       tf.keras.metrics.Recall(), \n",
    "                       tf.keras.metrics.AUC(name='auc-roc')])\n"
   ]
  },
  {
   "cell_type": "code",
   "execution_count": 114,
   "id": "300eaa42",
   "metadata": {},
   "outputs": [
    {
     "name": "stdout",
     "output_type": "stream",
     "text": [
      "Epoch 1/5\n",
      "750/750 [==============================] - 131s 173ms/step - loss: 0.2307 - accuracy: 0.8227 - precision_2: 0.5367 - recall_2: 0.2276 - auc-roc: 0.6352 - val_loss: 0.1370 - val_accuracy: 0.9522 - val_precision_2: 0.4876 - val_recall_2: 0.2853 - val_auc-roc: 0.6319\n",
      "Epoch 2/5\n",
      "750/750 [==============================] - 137s 182ms/step - loss: 0.1075 - accuracy: 0.8910 - precision_2: 0.4908 - recall_2: 0.2785 - auc-roc: 0.6538 - val_loss: 0.0851 - val_accuracy: 0.9355 - val_precision_2: 0.4875 - val_recall_2: 0.2819 - val_auc-roc: 0.6798\n",
      "Epoch 3/5\n",
      "750/750 [==============================] - 139s 185ms/step - loss: 0.0723 - accuracy: 0.8497 - precision_2: 0.4798 - recall_2: 0.2745 - auc-roc: 0.6923 - val_loss: 0.0669 - val_accuracy: 0.9122 - val_precision_2: 0.4864 - val_recall_2: 0.2774 - val_auc-roc: 0.7034\n",
      "Epoch 4/5\n",
      "750/750 [==============================] - 138s 184ms/step - loss: 0.0533 - accuracy: 0.8151 - precision_2: 0.4841 - recall_2: 0.2818 - auc-roc: 0.6951 - val_loss: 0.0600 - val_accuracy: 0.9044 - val_precision_2: 0.4920 - val_recall_2: 0.2849 - val_auc-roc: 0.6976\n",
      "Epoch 5/5\n",
      "750/750 [==============================] - 132s 176ms/step - loss: 0.0409 - accuracy: 0.8225 - precision_2: 0.4910 - recall_2: 0.2910 - auc-roc: 0.6808 - val_loss: 0.0576 - val_accuracy: 0.8905 - val_precision_2: 0.4980 - val_recall_2: 0.2897 - val_auc-roc: 0.6709\n"
     ]
    }
   ],
   "source": [
    "# Train the model\n",
    "batch_num = 128\n",
    "epochs = 5\n",
    "opt = model.fit(X_train, y_train, batch_size=batch_num, epochs=epochs, validation_data=(X_val, y_val))\n"
   ]
  },
  {
   "cell_type": "code",
   "execution_count": 115,
   "id": "b6df49ec",
   "metadata": {},
   "outputs": [],
   "source": [
    "# # Evaluate the model\n",
    "# loss, accuracy = model.evaluate(X_val, y_val)\n",
    "# print(f'Validation Loss: {loss}, Validation Accuracy: {accuracy}')"
   ]
  },
  {
   "cell_type": "code",
   "execution_count": 73,
   "id": "f117c710",
   "metadata": {},
   "outputs": [],
   "source": [
    "# Make predictions on test data\n",
    "test = pd.read_csv('test.csv')\n",
    "clean_test_comments = preprocess(test['comment_text'])\n",
    "X_test_seq = tokenizer.texts_to_sequences(clean_test_comments)\n",
    "X_test_padded = pad_sequences(X_test_seq, maxlen=max_length)\n"
   ]
  },
  {
   "cell_type": "code",
   "execution_count": 116,
   "id": "8f7b3ee2",
   "metadata": {},
   "outputs": [
    {
     "name": "stdout",
     "output_type": "stream",
     "text": [
      "4787/4787 [==============================] - 103s 22ms/step\n"
     ]
    }
   ],
   "source": [
    "predictions = model.predict(X_test_padded)\n",
    "# Create a submission file\n",
    "subm = pd.read_csv('sample_submission.csv')\n",
    "subm[['toxic', 'severe_toxic', 'obscene', 'threat', 'insult', 'identity_hate']] = predictions\n",
    "subm.to_csv('rnn_submission.csv', index=False)\n"
   ]
  },
  {
   "cell_type": "code",
   "execution_count": 117,
   "id": "d81c18c4",
   "metadata": {},
   "outputs": [
    {
     "data": {
      "image/png": "[encoded data removed]",
      "text/plain": [
       "<Figure size 800x600 with 1 Axes>"
      ]
     },
     "metadata": {},
     "output_type": "display_data"
    }
   ],
   "source": [
    "import matplotlib.pyplot as plt\n",
    "\n",
    "# Plot training and validation loss\n",
    "plt.figure(figsize=(8, 6))\n",
    "plt.suptitle('Optimizer: Adam for GRU', fontsize=16)\n",
    "plt.ylabel('Loss', fontsize=14)\n",
    "plt.xlabel('Epoch', fontsize=14)\n",
    "plt.plot(opt.history['loss'], color='b', label='Training Loss')\n",
    "plt.plot(opt.history['val_loss'], color='r', label='Validation Loss')\n",
    "plt.legend(loc='upper right')\n",
    "plt.show()"
   ]
  },
  {
   "cell_type": "code",
   "execution_count": null,
   "id": "1f8e0cc6",
   "metadata": {},
   "outputs": [],
   "source": []
  }
 ],
 "metadata": {
  "kernelspec": {
   "display_name": "Python 3 (ipykernel)",
   "language": "python",
   "name": "python3"
  },
  "language_info": {
   "codemirror_mode": {
    "name": "ipython",
    "version": 3
   },
   "file_extension": ".py",
   "mimetype": "text/x-python",
   "name": "python",
   "nbconvert_exporter": "python",
   "pygments_lexer": "ipython3",
   "version": "3.11.5"
  }
 },
 "nbformat": 4,
 "nbformat_minor": 5
}
